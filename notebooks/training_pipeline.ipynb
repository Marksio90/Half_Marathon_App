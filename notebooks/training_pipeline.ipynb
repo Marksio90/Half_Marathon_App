{
 "cells": [
  {
   "cell_type": "markdown",
   "id": "7e561c05",
   "metadata": {},
   "source": [
    "# 🏃 Half Marathon Time Prediction - Training Pipeline\n",
    "## Professional ML Pipeline with Digital Ocean Spaces Integration"
   ]
  },
  {
   "cell_type": "code",
   "execution_count": null,
   "id": "30f4c273",
   "metadata": {},
   "outputs": [],
   "source": [
    "# Install required packages\n",
    "# !pip install boto3 pandas numpy scikit-learn xgboost joblib python-dotenv"
   ]
  },
  {
   "cell_type": "code",
   "execution_count": 1,
   "id": "25a8201d",
   "metadata": {},
   "outputs": [
    {
     "name": "stdout",
     "output_type": "stream",
     "text": [
      "✅ Libraries imported successfully\n"
     ]
    }
   ],
   "source": [
    "import pandas as pd\n",
    "import numpy as np\n",
    "import boto3\n",
    "import joblib\n",
    "import os\n",
    "from io import BytesIO, StringIO\n",
    "from datetime import datetime\n",
    "from sklearn.model_selection import train_test_split, cross_val_score, GridSearchCV\n",
    "from sklearn.ensemble import RandomForestRegressor, GradientBoostingRegressor\n",
    "from sklearn.preprocessing import LabelEncoder\n",
    "from sklearn.metrics import mean_absolute_error, mean_squared_error, r2_score\n",
    "from xgboost import XGBRegressor\n",
    "import warnings\n",
    "warnings.filterwarnings('ignore')\n",
    "\n",
    "print(\"✅ Libraries imported successfully\")"
   ]
  },
  {
   "cell_type": "markdown",
   "id": "66b528b0",
   "metadata": {},
   "source": [
    "## 🔐 Configuration & Digital Ocean Connection"
   ]
  },
  {
   "cell_type": "code",
   "execution_count": 2,
   "id": "b55205f0",
   "metadata": {},
   "outputs": [
    {
     "name": "stdout",
     "output_type": "stream",
     "text": [
      "✅ Connected to Digital Ocean Spaces: half-marathon-app\n"
     ]
    }
   ],
   "source": [
    "# Digital Ocean Spaces Configuration\n",
    "DO_SPACES_KEY = os.getenv('DO_SPACES_KEY', 'your_access_key')\n",
    "DO_SPACES_SECRET = os.getenv('DO_SPACES_SECRET', 'your_secret_key')\n",
    "DO_SPACES_REGION = os.getenv('DO_SPACES_REGION', 'fra1')\n",
    "DO_SPACES_BUCKET = os.getenv('DO_SPACES_BUCKET', 'halfmarathon-ml')\n",
    "DO_SPACES_ENDPOINT = f'https://{DO_SPACES_REGION}.digitaloceanspaces.com'\n",
    "\n",
    "# Initialize S3 client (Digital Ocean Spaces is S3-compatible)\n",
    "s3_client = boto3.client(\n",
    "    's3',\n",
    "    region_name=DO_SPACES_REGION,\n",
    "    endpoint_url=DO_SPACES_ENDPOINT,\n",
    "    aws_access_key_id=DO_SPACES_KEY,\n",
    "    aws_secret_access_key=DO_SPACES_SECRET\n",
    ")\n",
    "\n",
    "print(f\"✅ Connected to Digital Ocean Spaces: {DO_SPACES_BUCKET}\")"
   ]
  },
  {
   "cell_type": "markdown",
   "id": "ad570fab",
   "metadata": {},
   "source": [
    "## 📥 Data Loading from Digital Ocean Spaces"
   ]
  },
  {
   "cell_type": "code",
   "execution_count": 3,
   "id": "1c5a33ef",
   "metadata": {},
   "outputs": [
    {
     "name": "stdout",
     "output_type": "stream",
     "text": [
      "✅ Loaded halfmarathon_wroclaw_2023__final.csv: 8950 rows, 27 columns\n",
      "✅ Loaded halfmarathon_wroclaw_2024__final.csv: 13007 rows, 27 columns\n",
      "\n",
      "📊 Total combined dataset: 21957 rows\n"
     ]
    },
    {
     "data": {
      "text/html": [
       "<div>\n",
       "<style scoped>\n",
       "    .dataframe tbody tr th:only-of-type {\n",
       "        vertical-align: middle;\n",
       "    }\n",
       "\n",
       "    .dataframe tbody tr th {\n",
       "        vertical-align: top;\n",
       "    }\n",
       "\n",
       "    .dataframe thead th {\n",
       "        text-align: right;\n",
       "    }\n",
       "</style>\n",
       "<table border=\"1\" class=\"dataframe\">\n",
       "  <thead>\n",
       "    <tr style=\"text-align: right;\">\n",
       "      <th></th>\n",
       "      <th>Miejsce</th>\n",
       "      <th>Numer startowy</th>\n",
       "      <th>Imię</th>\n",
       "      <th>Nazwisko</th>\n",
       "      <th>Miasto</th>\n",
       "      <th>Kraj</th>\n",
       "      <th>Drużyna</th>\n",
       "      <th>Płeć</th>\n",
       "      <th>Płeć Miejsce</th>\n",
       "      <th>Kategoria wiekowa</th>\n",
       "      <th>...</th>\n",
       "      <th>10 km Tempo</th>\n",
       "      <th>15 km Czas</th>\n",
       "      <th>15 km Miejsce Open</th>\n",
       "      <th>15 km Tempo</th>\n",
       "      <th>20 km Czas</th>\n",
       "      <th>20 km Miejsce Open</th>\n",
       "      <th>20 km Tempo</th>\n",
       "      <th>Tempo Stabilność</th>\n",
       "      <th>Czas</th>\n",
       "      <th>Tempo</th>\n",
       "    </tr>\n",
       "  </thead>\n",
       "  <tbody>\n",
       "    <tr>\n",
       "      <th>0</th>\n",
       "      <td>1.0</td>\n",
       "      <td>1787</td>\n",
       "      <td>TOMASZ</td>\n",
       "      <td>GRYCKO</td>\n",
       "      <td>NaN</td>\n",
       "      <td>POL</td>\n",
       "      <td>UKS BLIZA WŁADYSŁAWOWO</td>\n",
       "      <td>M</td>\n",
       "      <td>1.0</td>\n",
       "      <td>M30</td>\n",
       "      <td>...</td>\n",
       "      <td>2.926667</td>\n",
       "      <td>00:44:47</td>\n",
       "      <td>1.0</td>\n",
       "      <td>3.106667</td>\n",
       "      <td>01:01:43</td>\n",
       "      <td>1.0</td>\n",
       "      <td>3.386667</td>\n",
       "      <td>0.031400</td>\n",
       "      <td>01:04:59</td>\n",
       "      <td>3.080509</td>\n",
       "    </tr>\n",
       "    <tr>\n",
       "      <th>1</th>\n",
       "      <td>2.0</td>\n",
       "      <td>3</td>\n",
       "      <td>ARKADIUSZ</td>\n",
       "      <td>GARDZIELEWSKI</td>\n",
       "      <td>WROCŁAW</td>\n",
       "      <td>POL</td>\n",
       "      <td>ARKADIUSZGARDZIELEWSKI.PL</td>\n",
       "      <td>M</td>\n",
       "      <td>2.0</td>\n",
       "      <td>M30</td>\n",
       "      <td>...</td>\n",
       "      <td>2.983333</td>\n",
       "      <td>00:45:26</td>\n",
       "      <td>2.0</td>\n",
       "      <td>3.143333</td>\n",
       "      <td>01:03:08</td>\n",
       "      <td>2.0</td>\n",
       "      <td>3.540000</td>\n",
       "      <td>0.038000</td>\n",
       "      <td>01:06:23</td>\n",
       "      <td>3.146875</td>\n",
       "    </tr>\n",
       "    <tr>\n",
       "      <th>2</th>\n",
       "      <td>3.0</td>\n",
       "      <td>3832</td>\n",
       "      <td>KRZYSZTOF</td>\n",
       "      <td>HADAS</td>\n",
       "      <td>POZNAŃ</td>\n",
       "      <td>POL</td>\n",
       "      <td>NaN</td>\n",
       "      <td>M</td>\n",
       "      <td>3.0</td>\n",
       "      <td>M20</td>\n",
       "      <td>...</td>\n",
       "      <td>3.123333</td>\n",
       "      <td>00:47:34</td>\n",
       "      <td>3.0</td>\n",
       "      <td>3.236667</td>\n",
       "      <td>01:05:09</td>\n",
       "      <td>3.0</td>\n",
       "      <td>3.516667</td>\n",
       "      <td>0.024067</td>\n",
       "      <td>01:08:24</td>\n",
       "      <td>3.242475</td>\n",
       "    </tr>\n",
       "    <tr>\n",
       "      <th>3</th>\n",
       "      <td>4.0</td>\n",
       "      <td>416</td>\n",
       "      <td>DAMIAN</td>\n",
       "      <td>DYDUCH</td>\n",
       "      <td>KĘPNO</td>\n",
       "      <td>POL</td>\n",
       "      <td>AZS POLITECHNIKA OPOLSKA</td>\n",
       "      <td>M</td>\n",
       "      <td>4.0</td>\n",
       "      <td>M30</td>\n",
       "      <td>...</td>\n",
       "      <td>3.196667</td>\n",
       "      <td>00:48:49</td>\n",
       "      <td>5.0</td>\n",
       "      <td>3.330000</td>\n",
       "      <td>01:06:54</td>\n",
       "      <td>4.0</td>\n",
       "      <td>3.616667</td>\n",
       "      <td>0.025467</td>\n",
       "      <td>01:10:16</td>\n",
       "      <td>3.330963</td>\n",
       "    </tr>\n",
       "    <tr>\n",
       "      <th>4</th>\n",
       "      <td>5.0</td>\n",
       "      <td>8476</td>\n",
       "      <td>KAMIL</td>\n",
       "      <td>MAŃKOWSKI</td>\n",
       "      <td>MIRKÓW</td>\n",
       "      <td>POL</td>\n",
       "      <td>PARKRUN WROCŁAW</td>\n",
       "      <td>M</td>\n",
       "      <td>5.0</td>\n",
       "      <td>M20</td>\n",
       "      <td>...</td>\n",
       "      <td>3.276667</td>\n",
       "      <td>00:49:31</td>\n",
       "      <td>7.0</td>\n",
       "      <td>3.386667</td>\n",
       "      <td>01:07:27</td>\n",
       "      <td>5.0</td>\n",
       "      <td>3.586667</td>\n",
       "      <td>0.023000</td>\n",
       "      <td>01:10:27</td>\n",
       "      <td>3.339654</td>\n",
       "    </tr>\n",
       "  </tbody>\n",
       "</table>\n",
       "<p>5 rows × 27 columns</p>\n",
       "</div>"
      ],
      "text/plain": [
       "   Miejsce  Numer startowy       Imię       Nazwisko   Miasto Kraj  \\\n",
       "0      1.0            1787     TOMASZ         GRYCKO      NaN  POL   \n",
       "1      2.0               3  ARKADIUSZ  GARDZIELEWSKI  WROCŁAW  POL   \n",
       "2      3.0            3832  KRZYSZTOF          HADAS   POZNAŃ  POL   \n",
       "3      4.0             416     DAMIAN         DYDUCH    KĘPNO  POL   \n",
       "4      5.0            8476      KAMIL      MAŃKOWSKI   MIRKÓW  POL   \n",
       "\n",
       "                     Drużyna Płeć  Płeć Miejsce Kategoria wiekowa  ...  \\\n",
       "0     UKS BLIZA WŁADYSŁAWOWO    M           1.0               M30  ...   \n",
       "1  ARKADIUSZGARDZIELEWSKI.PL    M           2.0               M30  ...   \n",
       "2                        NaN    M           3.0               M20  ...   \n",
       "3   AZS POLITECHNIKA OPOLSKA    M           4.0               M30  ...   \n",
       "4            PARKRUN WROCŁAW    M           5.0               M20  ...   \n",
       "\n",
       "   10 km Tempo  15 km Czas 15 km Miejsce Open  15 km Tempo  20 km Czas  \\\n",
       "0     2.926667    00:44:47                1.0     3.106667    01:01:43   \n",
       "1     2.983333    00:45:26                2.0     3.143333    01:03:08   \n",
       "2     3.123333    00:47:34                3.0     3.236667    01:05:09   \n",
       "3     3.196667    00:48:49                5.0     3.330000    01:06:54   \n",
       "4     3.276667    00:49:31                7.0     3.386667    01:07:27   \n",
       "\n",
       "  20 km Miejsce Open  20 km Tempo  Tempo Stabilność      Czas     Tempo  \n",
       "0                1.0     3.386667          0.031400  01:04:59  3.080509  \n",
       "1                2.0     3.540000          0.038000  01:06:23  3.146875  \n",
       "2                3.0     3.516667          0.024067  01:08:24  3.242475  \n",
       "3                4.0     3.616667          0.025467  01:10:16  3.330963  \n",
       "4                5.0     3.586667          0.023000  01:10:27  3.339654  \n",
       "\n",
       "[5 rows x 27 columns]"
      ]
     },
     "execution_count": 3,
     "metadata": {},
     "output_type": "execute_result"
    }
   ],
   "source": [
    "def load_csv_from_spaces(filename):\n",
    "    \"\"\"Load CSV file from Digital Ocean Spaces\"\"\"\n",
    "    try:\n",
    "        obj = s3_client.get_object(Bucket=DO_SPACES_BUCKET, Key=filename)  # ← BEZ data/\n",
    "        df = pd.read_csv(StringIO(obj['Body'].read().decode('utf-8')), sep=';')\n",
    "        print(f\"✅ Loaded {filename}: {len(df)} rows, {len(df.columns)} columns\")\n",
    "        return df\n",
    "    except Exception as e:\n",
    "        print(f\"❌ Error loading {filename}: {e}\")\n",
    "        return None\n",
    "\n",
    "# Load datasets\n",
    "df_2023 = load_csv_from_spaces('halfmarathon_wroclaw_2023__final.csv')\n",
    "df_2024 = load_csv_from_spaces('halfmarathon_wroclaw_2024__final.csv')\n",
    "\n",
    "# Combine datasets\n",
    "df = pd.concat([df_2023, df_2024], ignore_index=True)\n",
    "print(f\"\\n📊 Total combined dataset: {len(df)} rows\")\n",
    "df.head()"
   ]
  },
  {
   "cell_type": "markdown",
   "id": "a70080a1",
   "metadata": {},
   "source": [
    "## 🧹 Data Cleaning & Feature Engineering"
   ]
  },
  {
   "cell_type": "code",
   "execution_count": 4,
   "id": "4d5c2eaa",
   "metadata": {},
   "outputs": [
    {
     "name": "stdout",
     "output_type": "stream",
     "text": [
      "🔄 Starting data cleaning...\n",
      "✅ Data cleaning complete: 18450 valid rows\n",
      "📉 Removed 3507 invalid/outlier rows\n"
     ]
    }
   ],
   "source": [
    "def convert_time_to_seconds(time_str):\n",
    "    \"\"\"Convert time format HH:MM:SS to seconds\"\"\"\n",
    "    if pd.isnull(time_str) or time_str in ['DNS', 'DNF', '']:\n",
    "        return None\n",
    "    try:\n",
    "        parts = str(time_str).split(':')\n",
    "        if len(parts) == 3:\n",
    "            return int(parts[0]) * 3600 + int(parts[1]) * 60 + int(parts[2])\n",
    "        return None\n",
    "    except:\n",
    "        return None\n",
    "\n",
    "def calculate_age(birth_year):\n",
    "    \"\"\"Calculate age from birth year\"\"\"\n",
    "    current_year = datetime.now().year\n",
    "    try:\n",
    "        return current_year - int(birth_year)\n",
    "    except:\n",
    "        return None\n",
    "\n",
    "print(\"🔄 Starting data cleaning...\")\n",
    "\n",
    "# Convert time columns to seconds\n",
    "time_columns = ['5 km Czas', '10 km Czas', '15 km Czas', '20 km Czas', 'Czas']\n",
    "for col in time_columns:\n",
    "    if col in df.columns:\n",
    "        df[f'{col}_seconds'] = df[col].apply(convert_time_to_seconds)\n",
    "\n",
    "# Calculate age\n",
    "if 'Rocznik' in df.columns:\n",
    "    df['Wiek'] = df['Rocznik'].apply(calculate_age)\n",
    "\n",
    "# Encode gender\n",
    "if 'Płeć' in df.columns:\n",
    "    le_gender = LabelEncoder()\n",
    "    df['Płeć_encoded'] = le_gender.fit_transform(df['Płeć'].fillna('M'))\n",
    "    joblib.dump(le_gender, 'gender_encoder.pkl')\n",
    "\n",
    "# Remove rows with missing target variable\n",
    "df_clean = df[df['Czas_seconds'].notna()].copy()\n",
    "\n",
    "# Remove outliers (times > 4 hours or < 1 hour)\n",
    "df_clean = df_clean[\n",
    "    (df_clean['Czas_seconds'] >= 3600) & \n",
    "    (df_clean['Czas_seconds'] <= 14400)\n",
    "]\n",
    "\n",
    "print(f\"✅ Data cleaning complete: {len(df_clean)} valid rows\")\n",
    "print(f\"📉 Removed {len(df) - len(df_clean)} invalid/outlier rows\")"
   ]
  },
  {
   "cell_type": "markdown",
   "id": "a07f5ae0",
   "metadata": {},
   "source": [
    "## 🎯 Feature Selection & Engineering"
   ]
  },
  {
   "cell_type": "code",
   "execution_count": 5,
   "id": "8697415d",
   "metadata": {},
   "outputs": [
    {
     "name": "stdout",
     "output_type": "stream",
     "text": [
      "📊 Feature matrix shape: (17895, 7)\n",
      "📋 Features used: ['Płeć_encoded', 'Wiek', '5 km Czas_seconds', '5 km Tempo', '10 km Tempo', '15 km Tempo', 'Tempo Stabilność']\n",
      "\n",
      "📈 Target variable statistics:\n",
      "   Mean: 123.19 minutes\n",
      "   Median: 120.67 minutes\n",
      "   Std: 20.18 minutes\n"
     ]
    }
   ],
   "source": [
    "# Select features for modeling\n",
    "feature_cols = [\n",
    "    'Płeć_encoded',\n",
    "    'Wiek',\n",
    "    '5 km Czas_seconds',\n",
    "    '5 km Tempo',\n",
    "]\n",
    "\n",
    "# Add optional features if available\n",
    "optional_features = ['10 km Tempo', '15 km Tempo', 'Tempo Stabilność']\n",
    "for feat in optional_features:\n",
    "    if feat in df_clean.columns:\n",
    "        feature_cols.append(feat)\n",
    "\n",
    "target_col = 'Czas_seconds'\n",
    "\n",
    "# Create feature matrix\n",
    "df_model = df_clean[feature_cols + [target_col]].dropna()\n",
    "\n",
    "X = df_model[feature_cols]\n",
    "y = df_model[target_col]\n",
    "\n",
    "print(f\"📊 Feature matrix shape: {X.shape}\")\n",
    "print(f\"📋 Features used: {feature_cols}\")\n",
    "print(f\"\\n📈 Target variable statistics:\")\n",
    "print(f\"   Mean: {y.mean()/60:.2f} minutes\")\n",
    "print(f\"   Median: {y.median()/60:.2f} minutes\")\n",
    "print(f\"   Std: {y.std()/60:.2f} minutes\")"
   ]
  },
  {
   "cell_type": "markdown",
   "id": "13c0f227",
   "metadata": {},
   "source": [
    "## 🔀 Train-Test Split"
   ]
  },
  {
   "cell_type": "code",
   "execution_count": 6,
   "id": "b7a32d22",
   "metadata": {},
   "outputs": [
    {
     "name": "stdout",
     "output_type": "stream",
     "text": [
      "✅ Train set: 14316 samples\n",
      "✅ Test set: 3579 samples\n"
     ]
    }
   ],
   "source": [
    "X_train, X_test, y_train, y_test = train_test_split(\n",
    "    X, y, test_size=0.2, random_state=42\n",
    ")\n",
    "\n",
    "print(f\"✅ Train set: {X_train.shape[0]} samples\")\n",
    "print(f\"✅ Test set: {X_test.shape[0]} samples\")"
   ]
  },
  {
   "cell_type": "code",
   "execution_count": null,
   "id": "78f40cd0",
   "metadata": {},
   "outputs": [],
   "source": [
    "# ← NOWE: Zapisz feature_order w metadata\n",
    "model_metadata['features'] = feature_cols  # ← KLUCZOWE!\n",
    "model_metadata['feature_types'] = {\n",
    "    col: str(X_train[col].dtype) for col in feature_cols\n",
    "}\n",
    "\n",
    "print(f\"✅ Feature order zapisana: {feature_cols}\")"
   ]
  },
  {
   "cell_type": "markdown",
   "id": "bca6f43c",
   "metadata": {},
   "source": [
    "## 🤖 Model Training & Hyperparameter Tuning"
   ]
  },
  {
   "cell_type": "code",
   "execution_count": 7,
   "id": "a07ad9e4",
   "metadata": {},
   "outputs": [
    {
     "name": "stdout",
     "output_type": "stream",
     "text": [
      "🎯 Training XGBoost model with hyperparameter tuning...\n",
      "\n",
      "Fitting 5 folds for each of 81 candidates, totalling 405 fits\n",
      "\n",
      "✅ Best parameters: {'learning_rate': 0.1, 'max_depth': 6, 'n_estimators': 300, 'subsample': 0.9}\n",
      "✅ Best CV MAE: 0.70 minutes\n"
     ]
    }
   ],
   "source": [
    "print(\"🎯 Training XGBoost model with hyperparameter tuning...\\n\")\n",
    "\n",
    "# Define parameter grid for XGBoost\n",
    "param_grid = {\n",
    "    'n_estimators': [100, 200, 300],\n",
    "    'max_depth': [4, 6, 8],\n",
    "    'learning_rate': [0.01, 0.05, 0.1],\n",
    "    'subsample': [0.8, 0.9, 1.0],\n",
    "}\n",
    "\n",
    "# Initialize XGBoost\n",
    "xgb_model = XGBRegressor(\n",
    "    random_state=42,\n",
    "    n_jobs=-1,\n",
    "    objective='reg:squarederror'\n",
    ")\n",
    "\n",
    "# Grid search with cross-validation\n",
    "grid_search = GridSearchCV(\n",
    "    xgb_model,\n",
    "    param_grid,\n",
    "    cv=5,\n",
    "    scoring='neg_mean_absolute_error',\n",
    "    n_jobs=-1,\n",
    "    verbose=1\n",
    ")\n",
    "\n",
    "grid_search.fit(X_train, y_train)\n",
    "\n",
    "print(f\"\\n✅ Best parameters: {grid_search.best_params_}\")\n",
    "print(f\"✅ Best CV MAE: {-grid_search.best_score_/60:.2f} minutes\")\n",
    "\n",
    "# Use best model\n",
    "best_model = grid_search.best_estimator_"
   ]
  },
  {
   "cell_type": "markdown",
   "id": "5e2f63d0",
   "metadata": {},
   "source": [
    "## 📊 Model Evaluation"
   ]
  },
  {
   "cell_type": "code",
   "execution_count": 8,
   "id": "b2e5be17",
   "metadata": {},
   "outputs": [
    {
     "name": "stdout",
     "output_type": "stream",
     "text": [
      "\n",
      "📊 Training Set Metrics:\n",
      "   MAE: 0.44 minutes (26 seconds)\n",
      "   RMSE: 0.58 minutes (35 seconds)\n",
      "   R² Score: 0.9992\n",
      "\n",
      "📊 Test Set Metrics:\n",
      "   MAE: 0.68 minutes (41 seconds)\n",
      "   RMSE: 1.14 minutes (69 seconds)\n",
      "   R² Score: 0.9968\n",
      "\n",
      "🎯 Feature Importance:\n",
      "          feature  importance\n",
      "      15 km Tempo    0.867453\n",
      "      10 km Tempo    0.107561\n",
      "5 km Czas_seconds    0.015539\n",
      " Tempo Stabilność    0.008603\n",
      "             Wiek    0.000455\n",
      "     Płeć_encoded    0.000389\n",
      "       5 km Tempo    0.000000\n"
     ]
    }
   ],
   "source": [
    "# Predictions\n",
    "y_pred_train = best_model.predict(X_train)\n",
    "y_pred_test = best_model.predict(X_test)\n",
    "\n",
    "# Calculate metrics\n",
    "def evaluate_model(y_true, y_pred, dataset_name):\n",
    "    mae = mean_absolute_error(y_true, y_pred)\n",
    "    rmse = np.sqrt(mean_squared_error(y_true, y_pred))\n",
    "    r2 = r2_score(y_true, y_pred)\n",
    "    \n",
    "    print(f\"\\n📊 {dataset_name} Metrics:\")\n",
    "    print(f\"   MAE: {mae/60:.2f} minutes ({mae:.0f} seconds)\")\n",
    "    print(f\"   RMSE: {rmse/60:.2f} minutes ({rmse:.0f} seconds)\")\n",
    "    print(f\"   R² Score: {r2:.4f}\")\n",
    "    \n",
    "    return {'mae': mae, 'rmse': rmse, 'r2': r2}\n",
    "\n",
    "train_metrics = evaluate_model(y_train, y_pred_train, \"Training Set\")\n",
    "test_metrics = evaluate_model(y_test, y_pred_test, \"Test Set\")\n",
    "\n",
    "# Feature importance\n",
    "print(\"\\n🎯 Feature Importance:\")\n",
    "feature_importance = pd.DataFrame({\n",
    "    'feature': feature_cols,\n",
    "    'importance': best_model.feature_importances_\n",
    "}).sort_values('importance', ascending=False)\n",
    "print(feature_importance.to_string(index=False))"
   ]
  },
  {
   "cell_type": "markdown",
   "id": "2332d58d",
   "metadata": {},
   "source": [
    "## 💾 Save Model Locally & Upload to Digital Ocean Spaces"
   ]
  },
  {
   "cell_type": "code",
   "execution_count": 9,
   "id": "e626303b",
   "metadata": {},
   "outputs": [
    {
     "name": "stdout",
     "output_type": "stream",
     "text": [
      "✅ Model saved locally: halfmarathon_model_20250929_215634.pkl\n",
      "✅ Metadata saved locally: model_metadata_20250929_215634.pkl\n",
      "✅ Uploaded to Spaces: models/halfmarathon_model_20250929_215634.pkl\n",
      "✅ Uploaded to Spaces: models/model_metadata_20250929_215634.pkl\n",
      "✅ Uploaded to Spaces: models/gender_encoder.pkl\n",
      "✅ Uploaded to Spaces: models/halfmarathon_model_latest.pkl\n",
      "✅ Uploaded to Spaces: models/model_metadata_latest.pkl\n",
      "\n",
      "🎉 Training pipeline completed successfully!\n"
     ]
    }
   ],
   "source": [
    "# Create model metadata\n",
    "model_metadata = {\n",
    "    'model_type': 'XGBoost',\n",
    "    'version': datetime.now().strftime('%Y%m%d_%H%M%S'),\n",
    "    'features': feature_cols,\n",
    "    'train_samples': len(X_train),\n",
    "    'test_samples': len(X_test),\n",
    "    'metrics': {\n",
    "        'train': train_metrics,\n",
    "        'test': test_metrics\n",
    "    },\n",
    "    'best_params': grid_search.best_params_\n",
    "}\n",
    "\n",
    "# Save model locally\n",
    "model_filename = f\"halfmarathon_model_{model_metadata['version']}.pkl\"\n",
    "metadata_filename = f\"model_metadata_{model_metadata['version']}.pkl\"\n",
    "\n",
    "joblib.dump(best_model, model_filename)\n",
    "joblib.dump(model_metadata, metadata_filename)\n",
    "\n",
    "print(f\"✅ Model saved locally: {model_filename}\")\n",
    "print(f\"✅ Metadata saved locally: {metadata_filename}\")\n",
    "\n",
    "# Upload to Digital Ocean Spaces\n",
    "def upload_to_spaces(local_file, spaces_key):\n",
    "    try:\n",
    "        s3_client.upload_file(\n",
    "            local_file,\n",
    "            DO_SPACES_BUCKET,\n",
    "            f'models/{spaces_key}',\n",
    "            ExtraArgs={'ACL': 'private'}\n",
    "        )\n",
    "        print(f\"✅ Uploaded to Spaces: models/{spaces_key}\")\n",
    "    except Exception as e:\n",
    "        print(f\"❌ Upload error: {e}\")\n",
    "\n",
    "upload_to_spaces(model_filename, model_filename)\n",
    "upload_to_spaces(metadata_filename, metadata_filename)\n",
    "upload_to_spaces('gender_encoder.pkl', 'gender_encoder.pkl')\n",
    "\n",
    "# Also save as \"latest\" version\n",
    "upload_to_spaces(model_filename, 'halfmarathon_model_latest.pkl')\n",
    "upload_to_spaces(metadata_filename, 'model_metadata_latest.pkl')\n",
    "\n",
    "print(\"\\n🎉 Training pipeline completed successfully!\")"
   ]
  },
  {
   "cell_type": "markdown",
   "id": "5f249dcd",
   "metadata": {},
   "source": [
    "## 🧪 Test Predictions"
   ]
  },
  {
   "cell_type": "code",
   "execution_count": 10,
   "id": "862baa12",
   "metadata": {},
   "outputs": [
    {
     "name": "stdout",
     "output_type": "stream",
     "text": [
      "🧪 Test Predictions:\n",
      "\n",
      "Test case 1:\n",
      "   Mężczyzna, 30 lat, 5km: 20:00\n",
      "   Predicted half-marathon time: 1:18:55\n",
      "\n",
      "Test case 2:\n",
      "   Kobieta, 25 lat, 5km: 25:00\n",
      "   Predicted half-marathon time: 1:25:34\n",
      "\n",
      "Test case 3:\n",
      "   Mężczyzna, 45 lat, 5km: 22:30\n",
      "   Predicted half-marathon time: 1:22:02\n",
      "\n"
     ]
    }
   ],
   "source": [
    "# Test with sample data\n",
    "test_cases = [\n",
    "    {'Płeć_encoded': 1, 'Wiek': 30, '5 km Czas_seconds': 1200, '5 km Tempo': 4.0},\n",
    "    {'Płeć_encoded': 0, 'Wiek': 25, '5 km Czas_seconds': 1500, '5 km Tempo': 5.0},\n",
    "    {'Płeć_encoded': 1, 'Wiek': 45, '5 km Czas_seconds': 1350, '5 km Tempo': 4.5},\n",
    "]\n",
    "\n",
    "print(\"🧪 Test Predictions:\\n\")\n",
    "for i, case in enumerate(test_cases, 1):\n",
    "    # Create feature vector with proper column names\n",
    "    test_df = pd.DataFrame([case])\n",
    "    # Add missing columns with default values\n",
    "    for col in feature_cols:\n",
    "        if col not in test_df.columns:\n",
    "            test_df[col] = 0\n",
    "    test_df = test_df[feature_cols]\n",
    "    \n",
    "    prediction_seconds = best_model.predict(test_df)[0]\n",
    "    prediction_time = f\"{int(prediction_seconds//3600)}:{int((prediction_seconds%3600)//60):02d}:{int(prediction_seconds%60):02d}\"\n",
    "    \n",
    "    gender = 'Mężczyzna' if case['Płeć_encoded'] == 1 else 'Kobieta'\n",
    "    print(f\"Test case {i}:\")\n",
    "    print(f\"   {gender}, {case['Wiek']} lat, 5km: {case['5 km Czas_seconds']//60}:{case['5 km Czas_seconds']%60:02d}\")\n",
    "    print(f\"   Predicted half-marathon time: {prediction_time}\\n\")"
   ]
  }
 ],
 "metadata": {
  "kernelspec": {
   "display_name": "halfmarathon_pro",
   "language": "python",
   "name": "python3"
  },
  "language_info": {
   "codemirror_mode": {
    "name": "ipython",
    "version": 3
   },
   "file_extension": ".py",
   "mimetype": "text/x-python",
   "name": "python",
   "nbconvert_exporter": "python",
   "pygments_lexer": "ipython3",
   "version": "3.11.13"
  }
 },
 "nbformat": 4,
 "nbformat_minor": 5
}
